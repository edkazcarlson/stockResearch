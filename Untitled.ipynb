{
 "cells": [
  {
   "cell_type": "code",
   "execution_count": null,
   "metadata": {},
   "outputs": [],
   "source": [
    "from sklearn.metrics import confusion_matrix, classification_report, plot_confusion_matrix\n",
    "from catboost import CatBoostClassifier, Pool\n",
    "import pandas as pd\n",
    "import numpy as np\n",
    "from sklearn.model_selection import train_test_split\n",
    "from collections import Counter\n",
    "from statistics import mean\n",
    "import seaborn as sns\n",
    "import matplotlib.pyplot as plt\n",
    "from sklearn.ensemble import VotingClassifier\n",
    "\n",
    "modelNames = ['ZScorePredictor','FiveDayPredictor','TmmrwUpPredictor']\n",
    "verbose = False\n",
    "\n",
    "def scoreCalculator(predictor, attributes, labels):\n",
    "    predicted = predictor.predict(attributes)\n",
    "    errorScore = 0\n",
    "    for guessIndex in range(len(predicted)):\n",
    "        guess = predicted[guessIndex]\n",
    "        actual = labels[guessIndex]\n",
    "        if guess == 'hold' :\n",
    "            errorScore += 0\n",
    "        elif guess == 'long':\n",
    "            if actual == 'short':\n",
    "                errorScore += -15\n",
    "            elif actual == 'hold':\n",
    "                errorScore += -5\n",
    "            else :#actual == 'long'\n",
    "                errorScore += 20\n",
    "        else: #short\n",
    "            if actual == 'long':\n",
    "                errorScore += -20\n",
    "            elif actual == 'hold':\n",
    "                errorScore += 0\n",
    "            else: #actual == short\n",
    "                errorScore += 20\n",
    "    if verbose:\n",
    "        myMatrix = plot_confusion_matrix(predictor, attributes, labels,\n",
    "                                     cmap=plt.cm.Blues, normalize = 'all')    \n",
    "        plt.show()\n",
    "    return  errorScore/len(predicted)\n",
    "\n"
   ]
  }
 ],
 "metadata": {
  "kernelspec": {
   "display_name": "Python 3",
   "language": "python",
   "name": "python3"
  },
  "language_info": {
   "codemirror_mode": {
    "name": "ipython",
    "version": 3
   },
   "file_extension": ".py",
   "mimetype": "text/x-python",
   "name": "python",
   "nbconvert_exporter": "python",
   "pygments_lexer": "ipython3",
   "version": "3.8.5"
  }
 },
 "nbformat": 4,
 "nbformat_minor": 4
}

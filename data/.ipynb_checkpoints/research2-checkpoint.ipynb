{
 "cells": [
  {
   "cell_type": "code",
   "execution_count": null,
   "metadata": {},
   "outputs": [],
   "source": [
    "import pandas as pd\n",
    "import numpy as np\n",
    "from matplotlib import pyplot as plt\n",
    "\n",
    "basePath = 'smallFiltered-{}.csv'\n",
    "for x in range(5):\n",
    "    path = basePath.format(x)\n",
    "    df = pd.read_csv(path, usecols = ['Date', 'thisDayZScore', 'SP500Value', 'NASDAQCOMValue'], parse_dates = ['Date'])\n",
    "    df = df.sort_values(by = ['Date'])\n",
    "    rowCount = df['Date'].count()\n",
    "    chunkCount = 10\n",
    "    emptyCol = [0.0] * rowCount\n",
    "    df['dayHigh'] = emptyCol\n",
    "    df['dayLow'] = emptyCol\n",
    "    df['dayMean'] = emptyCol\n",
    "    df['daySpread'] = emptyCol\n",
    "    for date in df['Date'].unique():\n",
    "        dateSeries = df[df['Date'] == date]\n",
    "        dayHigh = dateSeries.max()\n",
    "        dayLow = dateSeries.min()\n",
    "        dayMean = dateSeries.mean()\n",
    "        \n",
    "        df.loc[df['Date'].isin((df[df['Date'] == date]['Date'])), 'dayHigh'] = dayHigh\n",
    "        df.loc[df['Date'].isin((df[df['Date'] == date]['Date'])), 'dayLow'] = dayLow\n",
    "        df.loc[df['Date'].isin((df[df['Date'] == date]['Date'])), 'dayMean'] = dayMean\n",
    "    df['daySpread'] = df['High'] - df['Low']\n",
    "    for chunkIndex in range(chunkCount):\n",
    "        chunk = df[int(chunkIndex*(1/chunkCount)*rowCount):int((chunkIndex+1)*(1/chunkCount)*rowCount)]\n",
    "        fig, ax = plt.subplots(figsize=(80,20))\n",
    "        ax.plot(chunk['Date'], [0.5] * chunk['Date'].size)\n",
    "        ax.plot(chunk['Date'], [-0.5] * chunk['Date'].size)\n",
    "        for ticker in chunk['ticker'].unique():\n",
    "            tickerDF = chunk[chunk['ticker'] == ticker]\n",
    "            tickerDF.sort_values(by = ['Date'])\n",
    "            #ax.scatter(tickerDF['Date'], tickerDF['thisDayZScore'], c = 'green', s = 2)\n",
    "        ax.twinx().plot(chunk['Date'], chunk['SP500Value'], c = 'purple')\n",
    "        ax.twinx().plot(chunk['Date'], chunk['NASDAQCOMValue'], c = 'purple')\n",
    "        ax.twinx().plot(chunk['Date'], chunk['dayHigh'], c = 'black')\n",
    "        ax.twinx().plot(chunk['Date'], chunk['dayLow'], c = 'red')\n",
    "        ax.twinx().plot(chunk['Date'], chunk['dayMean'], c = 'blue')\n",
    "        ax.twinx().plot(chunk['Date'], chunk['daySpread'], c = 'green')\n",
    "        plt.show()"
   ]
  },
  {
   "cell_type": "code",
   "execution_count": null,
   "metadata": {},
   "outputs": [],
   "source": []
  }
 ],
 "metadata": {
  "kernelspec": {
   "display_name": "Python 3",
   "language": "python",
   "name": "python3"
  },
  "language_info": {
   "codemirror_mode": {
    "name": "ipython",
    "version": 3
   },
   "file_extension": ".py",
   "mimetype": "text/x-python",
   "name": "python",
   "nbconvert_exporter": "python",
   "pygments_lexer": "ipython3",
   "version": "3.8.1"
  }
 },
 "nbformat": 4,
 "nbformat_minor": 4
}
